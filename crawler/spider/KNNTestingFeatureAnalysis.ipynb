{
 "cells": [
  {
   "cell_type": "code",
   "execution_count": 3,
   "metadata": {},
   "outputs": [],
   "source": [
    "from knn import house_KNN\n",
    "from knn import clean_noise\n",
    "import geopy\n",
    "# Analysis in weighted distance KNN and unweighted distance\n",
    "def KNN_test(region_houses_list,attri,distance_method): \n",
    "    i = 0\n",
    "    results = []\n",
    "    for index,house_info in region_houses_list.iterrows():\n",
    "        i+=1\n",
    "        #To speed up the test, beacause a property has to compare all the neighbours in the area\n",
    "        #it is impossible to calculate billions of the properties and neighbour pair,\n",
    "        #so it is nessasary to sampling data in order to speed up testing\n",
    "        if i>len(region_houses_list.index)/10 or i> 100:\n",
    "            break\n",
    "        else:\n",
    "            # not include itself\n",
    "            neighbours = region_houses_list.drop([index])\n",
    "            #get K neighbours \n",
    "            k_neighbour_list = house_KNN(house_info,neighbours,5,attri,distance_method)\n",
    "            #get average price of K neighbours and the real property asking price\n",
    "            results.append([k_neighbour_list[\"price\"].mean(),house_info[\"price\"]])\n",
    "            \n",
    "    results = pd.DataFrame(results)\n",
    "    results.columns = ['estimate','real']\n",
    "    results['estimate_error'] = (results['estimate'] - results['real'])/results['real']\n",
    "    results = results.round({'estimate_error':3})\n",
    "    return results\n",
    "\n",
    "            \n",
    "        \n",
    "\n",
    "    "
   ]
  },
  {
   "cell_type": "code",
   "execution_count": 4,
   "metadata": {
    "scrolled": true
   },
   "outputs": [
    {
     "name": "stderr",
     "output_type": "stream",
     "text": [
      "\r",
      "  0%|          | 0/121 [00:00<?, ?it/s]"
     ]
    },
    {
     "name": "stdout",
     "output_type": "stream",
     "text": [
      "ZE.json\n",
      "YO.json\n"
     ]
    },
    {
     "name": "stderr",
     "output_type": "stream",
     "text": [
      "\r",
      "  2%|▏         | 2/121 [00:52<52:12, 26.32s/it]"
     ]
    },
    {
     "name": "stdout",
     "output_type": "stream",
     "text": [
      "WV.json\n"
     ]
    },
    {
     "name": "stderr",
     "output_type": "stream",
     "text": [
      "\r",
      "  2%|▏         | 3/121 [03:07<2:03:06, 62.60s/it]"
     ]
    },
    {
     "name": "stdout",
     "output_type": "stream",
     "text": [
      "WS.json\n"
     ]
    },
    {
     "name": "stderr",
     "output_type": "stream",
     "text": [
      "\r",
      "  3%|▎         | 4/121 [04:30<2:11:44, 67.56s/it]"
     ]
    },
    {
     "name": "stdout",
     "output_type": "stream",
     "text": [
      "WR.json\n"
     ]
    },
    {
     "name": "stderr",
     "output_type": "stream",
     "text": [
      "\r",
      "  4%|▍         | 5/121 [04:57<1:55:12, 59.59s/it]"
     ]
    },
    {
     "name": "stdout",
     "output_type": "stream",
     "text": [
      "WN.json\n"
     ]
    },
    {
     "name": "stderr",
     "output_type": "stream",
     "text": [
      "\r",
      "  5%|▍         | 6/121 [05:10<1:39:04, 51.70s/it]"
     ]
    },
    {
     "name": "stdout",
     "output_type": "stream",
     "text": [
      "WF.json\n"
     ]
    },
    {
     "name": "stderr",
     "output_type": "stream",
     "text": [
      "\r",
      "  6%|▌         | 7/121 [06:24<1:44:14, 54.87s/it]"
     ]
    },
    {
     "name": "stdout",
     "output_type": "stream",
     "text": [
      "WD.json\n"
     ]
    },
    {
     "name": "stderr",
     "output_type": "stream",
     "text": [
      "\r",
      "  7%|▋         | 8/121 [10:00<2:21:18, 75.03s/it]"
     ]
    },
    {
     "name": "stdout",
     "output_type": "stream",
     "text": [
      "WC.json\n"
     ]
    },
    {
     "name": "stderr",
     "output_type": "stream",
     "text": [
      "\r",
      "  7%|▋         | 9/121 [10:32<2:11:05, 70.22s/it]"
     ]
    },
    {
     "name": "stdout",
     "output_type": "stream",
     "text": [
      "WA.json\n"
     ]
    },
    {
     "name": "stderr",
     "output_type": "stream",
     "text": [
      "\r",
      "  8%|▊         | 10/121 [12:12<2:15:34, 73.28s/it]"
     ]
    },
    {
     "name": "stdout",
     "output_type": "stream",
     "text": [
      "W.json\n"
     ]
    },
    {
     "name": "stderr",
     "output_type": "stream",
     "text": [
      "\r",
      "  9%|▉         | 11/121 [40:02<6:40:20, 218.37s/it]"
     ]
    },
    {
     "name": "stdout",
     "output_type": "stream",
     "text": [
      "UB.json\n"
     ]
    },
    {
     "name": "stderr",
     "output_type": "stream",
     "text": [
      "\r",
      " 10%|▉         | 12/121 [47:04<7:07:38, 235.40s/it]"
     ]
    },
    {
     "name": "stdout",
     "output_type": "stream",
     "text": [
      "TW.json\n"
     ]
    },
    {
     "name": "stderr",
     "output_type": "stream",
     "text": [
      "\r",
      " 11%|█         | 13/121 [1:00:48<8:25:12, 280.67s/it]"
     ]
    },
    {
     "name": "stdout",
     "output_type": "stream",
     "text": [
      "TS.json\n"
     ]
    },
    {
     "name": "stderr",
     "output_type": "stream",
     "text": [
      "\r",
      " 12%|█▏        | 14/121 [1:03:49<8:07:44, 273.50s/it]"
     ]
    },
    {
     "name": "stdout",
     "output_type": "stream",
     "text": [
      "TR.json\n"
     ]
    },
    {
     "name": "stderr",
     "output_type": "stream",
     "text": [
      "\r",
      " 12%|█▏        | 15/121 [1:04:11<7:33:40, 256.79s/it]"
     ]
    },
    {
     "name": "stdout",
     "output_type": "stream",
     "text": [
      "TQ.json\n"
     ]
    },
    {
     "name": "stderr",
     "output_type": "stream",
     "text": [
      "\r",
      " 13%|█▎        | 16/121 [1:04:32<7:03:33, 242.03s/it]"
     ]
    },
    {
     "name": "stdout",
     "output_type": "stream",
     "text": [
      "TN.json\n"
     ]
    },
    {
     "name": "stderr",
     "output_type": "stream",
     "text": [
      "\r",
      " 14%|█▍        | 17/121 [1:08:54<7:01:31, 243.19s/it]"
     ]
    },
    {
     "name": "stdout",
     "output_type": "stream",
     "text": [
      "TF.json\n"
     ]
    },
    {
     "name": "stderr",
     "output_type": "stream",
     "text": [
      " 16%|█▌        | 19/121 [1:09:23<6:12:30, 219.13s/it]"
     ]
    },
    {
     "name": "stdout",
     "output_type": "stream",
     "text": [
      "TD.json\n",
      "TA.json\n"
     ]
    },
    {
     "name": "stderr",
     "output_type": "stream",
     "text": [
      "\r",
      " 17%|█▋        | 20/121 [1:09:37<5:51:36, 208.88s/it]"
     ]
    },
    {
     "name": "stdout",
     "output_type": "stream",
     "text": [
      "SY.json\n"
     ]
    },
    {
     "name": "stderr",
     "output_type": "stream",
     "text": [
      "\r",
      " 17%|█▋        | 21/121 [1:09:42<5:31:54, 199.15s/it]"
     ]
    },
    {
     "name": "stdout",
     "output_type": "stream",
     "text": [
      "SW.json\n"
     ]
    },
    {
     "name": "stderr",
     "output_type": "stream",
     "text": [
      "\r",
      " 18%|█▊        | 22/121 [1:33:19<6:59:59, 254.54s/it]"
     ]
    },
    {
     "name": "stdout",
     "output_type": "stream",
     "text": [
      "ST.json\n"
     ]
    },
    {
     "name": "stderr",
     "output_type": "stream",
     "text": [
      "\r",
      " 19%|█▉        | 23/121 [1:34:50<6:44:07, 247.42s/it]"
     ]
    },
    {
     "name": "stdout",
     "output_type": "stream",
     "text": [
      "SS.json\n"
     ]
    },
    {
     "name": "stderr",
     "output_type": "stream",
     "text": [
      "\r",
      " 20%|█▉        | 24/121 [1:37:19<6:33:20, 243.30s/it]"
     ]
    },
    {
     "name": "stdout",
     "output_type": "stream",
     "text": [
      "SR.json\n"
     ]
    },
    {
     "name": "stderr",
     "output_type": "stream",
     "text": [
      "\r",
      " 21%|██        | 25/121 [1:37:53<6:15:53, 234.93s/it]"
     ]
    },
    {
     "name": "stdout",
     "output_type": "stream",
     "text": [
      "SP.json\n"
     ]
    },
    {
     "name": "stderr",
     "output_type": "stream",
     "text": [
      "\r",
      " 21%|██▏       | 26/121 [1:38:14<5:58:56, 226.70s/it]"
     ]
    },
    {
     "name": "stdout",
     "output_type": "stream",
     "text": [
      "SO.json\n"
     ]
    },
    {
     "name": "stderr",
     "output_type": "stream",
     "text": [
      "\r",
      " 22%|██▏       | 27/121 [1:49:02<6:19:35, 242.30s/it]"
     ]
    },
    {
     "name": "stdout",
     "output_type": "stream",
     "text": [
      "SN.json\n"
     ]
    },
    {
     "name": "stderr",
     "output_type": "stream",
     "text": [
      "\r",
      " 23%|██▎       | 28/121 [1:52:51<6:14:50, 241.83s/it]"
     ]
    },
    {
     "name": "stdout",
     "output_type": "stream",
     "text": [
      "SM.json\n"
     ]
    },
    {
     "name": "stderr",
     "output_type": "stream",
     "text": [
      "\r",
      " 24%|██▍       | 29/121 [1:55:00<6:04:52, 237.96s/it]"
     ]
    },
    {
     "name": "stdout",
     "output_type": "stream",
     "text": [
      "SL.json\n"
     ]
    },
    {
     "name": "stderr",
     "output_type": "stream",
     "text": [
      "\r",
      " 25%|██▍       | 30/121 [2:01:32<6:08:41, 243.09s/it]"
     ]
    },
    {
     "name": "stdout",
     "output_type": "stream",
     "text": [
      "SK.json\n",
      "(2123, 3)\n"
     ]
    }
   ],
   "source": [
    "\"\"\"\n",
    "Compare the error rate between weightedKNN and unweightedKNN\n",
    "\n",
    "Use 1/3 of area dataset as validation set\n",
    "\n",
    "Results are surprisingly good, which are displayed below\n",
    "\n",
    "\"\"\"\n",
    "\n",
    "%load_ext autoreload\n",
    "%autoreload\n",
    "import pandas as pd\n",
    "import json_reader\n",
    "from region_extractor import extract_region\n",
    "import os\n",
    "import math\n",
    "import tqdm\n",
    "from knn import calculate_weightedDistance\n",
    "from knn import calculate_Distance\n",
    "from random import shuffle\n",
    "\n",
    "%matplotlib inline\n",
    "\n",
    "train_features = [\"num_bath\",\"num_bed\",\"month_view\",\"coordinate\"]\n",
    "house_type = [\"end terrace\",\"terraced\",\"semi-detached\",\"detached\",\"flat\"]\n",
    "path = \"./rent_region/\"\n",
    "region_list  =os.listdir(path) \n",
    "if \".DS_Store\" in region_list:\n",
    "    region_list.remove(\".DS_Store\")\n",
    "i = 0\n",
    "from tqdm import tqdm\n",
    "regions = []\n",
    "region_result = []\n",
    "total_result = []\n",
    "for region in tqdm(region_list[::-1]):\n",
    "    i+=1\n",
    "    print(region)\n",
    "    region_houses_list = list(json_reader.json_read(path,region)[0].values())[0]\n",
    "    shuffle(region_houses_list)\n",
    "    if len(region_houses_list)<=1:\n",
    "        continue        \n",
    "    \n",
    "    #region_df = pd.DataFrame(region_houses_list )\n",
    "    region_df = clean_noise(region_houses_list,150,house_type)\n",
    "    #drop features to save memory space\n",
    "    region_df = region_df.drop(['crawling_time','first_published_date','postcode','top3near_by'],axis = 1)\n",
    "    \n",
    "    #results for weighted distance\n",
    "    results = KNN_test(region_df,train_features,calculate_weightedDistance)\n",
    "    \n",
    "    #results for not weighted\n",
    "    results2 = KNN_test(region_df,train_features,calculate_Distance)\n",
    "    \n",
    "    \n",
    "    \n",
    "    #putting weightedKNN and unweightedKNN's estimate_error together\n",
    "    region_result.append([results['estimate_error'].mean(),results2['estimate_error'].mean()])\n",
    "    \n",
    "    results2 = results2.drop(['real','estimate_error'],axis = 1)\n",
    "    \n",
    "    results = results.drop(['estimate_error'],axis = 1)\n",
    "    result = pd.concat([results,results2],axis = 1)\n",
    "    total_result.append(result)\n",
    "    \n",
    "    # use 1/3 of the data as validation set\n",
    "    if i>30:\n",
    "        break\n",
    "\n",
    "\n",
    "total_result = pd.concat(total_result)\n",
    "print(total_result.shape)\n",
    "    \n"
   ]
  },
  {
   "cell_type": "code",
   "execution_count": 5,
   "metadata": {},
   "outputs": [],
   "source": [
    "total_result.columns = ['WKNN','real','UNKNN']\n",
    "total_result['WKNNT'] = total_result['WKNN'] - total_result['real']\n",
    "total_result['UNKNNT'] = total_result['UNKNN'] - total_result['real']\n",
    "total_"
   ]
  },
  {
   "cell_type": "code",
   "execution_count": 6,
   "metadata": {},
   "outputs": [
    {
     "data": {
      "text/plain": [
       "(2123, 5)"
      ]
     },
     "execution_count": 6,
     "metadata": {},
     "output_type": "execute_result"
    }
   ],
   "source": [
    "total_result.shape"
   ]
  },
  {
   "cell_type": "code",
   "execution_count": 13,
   "metadata": {},
   "outputs": [],
   "source": [
    "total_result.to_csv(\"rent_test.csv\",index = False)\n"
   ]
  },
  {
   "cell_type": "code",
   "execution_count": 4,
   "metadata": {},
   "outputs": [],
   "source": [
    "import pandas as pd\n",
    "total_result = pd.read_csv(\"rent_test.csv\")\n",
    "total_result = total_result.abs()"
   ]
  },
  {
   "cell_type": "code",
   "execution_count": 5,
   "metadata": {},
   "outputs": [
    {
     "name": "stdout",
     "output_type": "stream",
     "text": [
      "Ttest_indResult(statistic=-6.1054004547170484, pvalue=1.117185768183035e-09)\n"
     ]
    }
   ],
   "source": [
    "from scipy.stats import ttest_ind\n",
    "\n",
    "ttest = ttest_ind(total_result['WKNNT'],total_result['UNKNNT'])\n",
    "print(ttest)"
   ]
  },
  {
   "cell_type": "code",
   "execution_count": 159,
   "metadata": {},
   "outputs": [
    {
     "name": "stdout",
     "output_type": "stream",
     "text": [
      "           0         1\n",
      "0   0.003340  0.085710\n",
      "1   0.077700  0.063800\n",
      "2   0.075750  0.150750\n",
      "3   0.037900  0.109290\n",
      "4   0.087060  0.181340\n",
      "5   0.098260  0.227220\n",
      "6   0.035770  0.035920\n",
      "7   0.034219  0.039156\n",
      "8   0.092394  0.110070\n",
      "9   0.019145  0.036982\n",
      "10  0.064490  0.150760\n",
      "11  0.020771  0.022000\n",
      "12  0.007269  0.058423\n",
      "13  0.037808  0.034577\n",
      "14  0.019700  0.059700\n",
      "15  0.037530  0.138200\n",
      "16  0.158511  0.149432\n",
      "17  0.016545  0.129354\n",
      "18  0.000500  0.052333\n",
      "19  0.027630  0.074470\n",
      "20  0.038639  0.194278\n",
      "21  0.018579  0.023763\n",
      "22  0.040537  0.115837\n",
      "23  0.006590  0.093590\n",
      "24  0.097227  0.195943\n",
      "25  0.074774  0.165129\n",
      "26  0.002187  0.003025\n",
      "27  0.264267  0.401333\n",
      "28  0.010490  0.020230\n",
      "\n",
      "\n",
      "weightedKNN average error rate: 0.052 \n",
      "unweightedKNN average error rate: 0.108 \n",
      "Which means weightedKNN has a better performance on prediction\n"
     ]
    },
    {
     "data": {
      "image/png": "[encoded data removed]",
      "text/plain": [
       "<matplotlib.figure.Figure at 0x7f05eb198550>"
      ]
     },
     "metadata": {},
     "output_type": "display_data"
    }
   ],
   "source": [
    "import matplotlib.pyplot as plt\n",
    "#%store region_result\n",
    "error_df = pd.DataFrame(region_result)\n",
    "error_df = error_df.applymap(abs)\n",
    "error_df.plot.bar()\n",
    "\n",
    "print(error_df)\n",
    "print(\"\\n\")\n",
    "print(\"weightedKNN average error rate: %.3f \"%error_df[0].mean())\n",
    "print(\"unweightedKNN average error rate: %.3f \"%error_df[1].mean())\n",
    "print(\"Which means weightedKNN has a better performance on prediction\")"
   ]
  },
  {
   "cell_type": "code",
   "execution_count": 87,
   "metadata": {},
   "outputs": [
    {
     "name": "stdout",
     "output_type": "stream",
     "text": [
      "The autoreload extension is already loaded. To reload it, use:\n",
      "  %reload_ext autoreload\n",
      "\n",
      "            Average price in different house type:\n",
      "         detached  end terrace    flat  semi-detached  terraced\n",
      "SL.json     919.0        904.0   933.0          973.0     937.0\n",
      "BS.json     536.0        658.0   785.0          639.0     557.0\n",
      "BR.json    1231.0       1025.0   991.0          870.0     901.0\n",
      "GL.json     522.0        577.0   590.0          530.0     578.0\n",
      "ST.json     511.0        425.0   439.0          514.0     362.0\n",
      "WV.json     531.0          NaN   427.0          415.0     391.0\n",
      "GU.json     853.0        902.0   916.0          972.0    1004.0\n",
      "MK.json    1158.0        687.0   738.0          659.0     676.0\n",
      "AB.json     500.0        485.0   501.0            NaN     490.0\n",
      "TW.json     987.0        980.0  1190.0          868.0     993.0\n",
      "WD.json     841.0        954.0   937.0         1106.0     991.0\n",
      "DA.json     850.0        825.0   820.0          656.0     711.0\n",
      "SE.json     992.0       1002.0  1390.0         1166.0    1050.0\n",
      "SG.json     857.0        728.0   774.0          722.0     770.0\n",
      "L.json      689.0          NaN   550.0          510.0     404.0\n",
      "UB.json    1298.0       1058.0  1042.0         1173.0    1021.0\n",
      "IG.json     790.0       1151.0  1047.0         1701.0    1150.0\n",
      "E.json      995.0       1300.0  1502.0         1413.0    1311.0\n",
      "CW.json     498.0        525.0   478.0          483.0     422.0\n",
      "WR.json     666.0        560.0   547.0          613.0     575.0\n",
      "\n",
      "\n",
      "Standard deviation between differnt house type in monthly rent :\n",
      " SL.json     25.752670\n",
      "BS.json     98.653434\n",
      "BR.json    142.041543\n",
      "GL.json     31.045128\n",
      "ST.json     63.849041\n",
      "WV.json     61.838499\n",
      "GU.json     59.471001\n",
      "MK.json    211.358227\n",
      "AB.json      7.788881\n",
      "TW.json    116.272525\n",
      "WD.json     95.961972\n",
      "DA.json     84.221731\n",
      "SE.json    166.000000\n",
      "SG.json     53.974068\n",
      "L.json     117.876701\n",
      "UB.json    116.414346\n",
      "IG.json    332.500677\n",
      "E.json     191.462007\n",
      "CW.json     37.811374\n",
      "WR.json     48.100936\n",
      "dtype: float64\n"
     ]
    }
   ],
   "source": [
    "\"\"\"\n",
    "Unuseful codes\n",
    "#t.to_csv(\"property_type_mean.csv\")\n",
    "\n",
    "    #region_examples, region_target = prepareTrainingdata(region_houses_list,\"rent\",\"rent\")\n",
    "    #examples.append(region_examples)\n",
    "    #target.append(region_target)\n",
    "\"\"\"\n",
    "    \n",
    "\"\"\"\n",
    "Analyze the relevance between feature property_type and label price \n",
    "\"\"\"\n",
    "    \n",
    "%load_ext autoreload\n",
    "%autoreload\n",
    "import pandas as pd\n",
    "import json_reader\n",
    "from region_extractor import extract_region\n",
    "import os\n",
    "import math\n",
    "import random\n",
    "\n",
    "%matplotlib inline\n",
    "\n",
    "train_features = [\"num_bath\",\"num_bed\",\"month_view\",\"coordinate\"]\n",
    "house_type = [\"end terrace\",\"terraced\",\"semi-detached\",\"detached\",\"flat\"]\n",
    "path = \"./rent_region/\"\n",
    "region_list  =os.listdir(path) \n",
    "if \".DS_Store\" in region_list:\n",
    "    region_list.remove(\".DS_Store\")\n",
    "i = 0\n",
    "bed = 1\n",
    "from tqdm import tqdm\n",
    "\n",
    "regions_2_df = pd.DataFrame()\n",
    "region_ptype_mean  = []\n",
    "random.shuffle(region_list)\n",
    "\n",
    "for region in region_list:\n",
    "    i+=1\n",
    "    region_houses_list = list(json_reader.json_read(path,region)[0].values())[0]\n",
    "    if len(region_houses_list)<=1:\n",
    "        continue \n",
    "    regions_2_df = clean_noise(region_houses_list,150,house_type)\n",
    "    regions_2_df = regions_2_df.drop(['crawling_time','first_published_date','postcode','top3near_by'],axis = 1)\n",
    "    \n",
    "    grouped = regions_2_df[regions_2_df['num_bed']==bed].groupby(['property_type'])['price']\n",
    "    mean = grouped.mean().astype(int)\n",
    "    mean.name = region\n",
    "    region_ptype_mean.append(mean)\n",
    "    if i>30:\n",
    "        break\n",
    "    \n",
    "property_mean_in_regions = pd.concat(region_ptype_mean,axis = 1).T \n",
    "#property_mean_in_regions['std'] =\n",
    "\n",
    "#print(property_mean_in_regions)\n",
    "\n",
    "print(\"\\n            Average price in different house type:\")\n",
    "print(property_mean_in_regions)\n",
    "print(\"\\n\")\n",
    "print(\"Standard deviation between differnt house type in monthly rent :\\n\",property_mean_in_regions.std(axis = 1))\n"
   ]
  },
  {
   "cell_type": "code",
   "execution_count": 114,
   "metadata": {},
   "outputs": [
    {
     "name": "stdout",
     "output_type": "stream",
     "text": [
      "There is no obvious relation between different property_type and price with the same bedrooms\n"
     ]
    },
    {
     "data": {
      "image/png": "[encoded data removed]",
      "text/plain": [
       "<matplotlib.figure.Figure at 0x7f05ed5eb2e8>"
      ]
     },
     "metadata": {},
     "output_type": "display_data"
    },
    {
     "data": {
      "image/png": "[encoded data removed]",
      "text/plain": [
       "<matplotlib.figure.Figure at 0x7f05ecfb8c18>"
      ]
     },
     "metadata": {},
     "output_type": "display_data"
    }
   ],
   "source": [
    "\n",
    "plt.rcParams[\"figure.figsize\"] = [12,9]\n",
    "property_mean_in_regions.plot.bar()\n",
    "\n",
    "plt.figure(figsize=(8,6), dpi=120)\n",
    "grouped = regions_2_df[regions_2_df['num_bed']==1].groupby(['property_type'])['price']\n",
    "mean = grouped.mean().astype(int)\n",
    "plt.subplot(221)\n",
    "mean.plot.bar(stacked=True).set_ylabel('1 bed')\n",
    "grouped = regions_2_df[regions_2_df['num_bed']==2].groupby(['property_type'])['price']\n",
    "mean = grouped.mean().astype(int)\n",
    "plt.subplot(222)\n",
    "mean.plot.bar(stacked=True).set_ylabel('2 bed')\n",
    "grouped = regions_2_df[regions_2_df['num_bed']==3].groupby(['property_type'])['price']\n",
    "mean = grouped.mean().astype(int)\n",
    "plt.subplot(223)\n",
    "mean.plot.bar(stacked=True).set_ylabel('3 bed')\n",
    "grouped = regions_2_df[regions_2_df['num_bed']==4].groupby(['property_type'])['price']\n",
    "mean = grouped.mean().astype(int)\n",
    "plt.subplot(224)\n",
    "mean.plot.bar(stacked=True).set_ylabel('4 bed')\n",
    "plt.tight_layout()\n",
    "\n",
    "print(\"There is no obvious relation between different property_type and price with the same bedrooms\")\n"
   ]
  },
  {
   "cell_type": "code",
   "execution_count": 149,
   "metadata": {},
   "outputs": [],
   "source": [
    "import random\n",
    "random.shuffle(region_list)\n",
    "num_bed = 4\n",
    "std_div_mean_list = []\n",
    "i =0 \n",
    "for region in region_list:\n",
    "    i+=1\n",
    "    region_houses_list = list(json_reader.json_read(path,region)[0].values())[0]\n",
    "    if len(region_houses_list)<=1:\n",
    "        continue \n",
    "    regions_2_df = clean_noise(region_houses_list,150,house_type)\n",
    "    regions_2_df = regions_2_df.drop(['crawling_time','first_published_date','postcode','top3near_by'],axis = 1)\n",
    "    std_div_mean = []\n",
    "    for j in range(1,num_bed+1):\n",
    "        grouped = regions_2_df[regions_2_df['num_bed']==j].groupby(['property_type'])['price']\n",
    "        std_div_mean.append(grouped.median().std()/grouped.median().mean())\n",
    "    std_div_mean = pd.DataFrame(std_div_mean)\n",
    "    std_div_mean.columns = [region] \n",
    "    std_div_mean_list.append(std_div_mean)\n",
    "    if i >20:\n",
    "        break\n",
    "        \n",
    "std_div_mean_df = pd.concat(std_div_mean_list,axis = 1).T\n"
   ]
  },
  {
   "cell_type": "code",
   "execution_count": 150,
   "metadata": {},
   "outputs": [
    {
     "name": "stdout",
     "output_type": "stream",
     "text": [
      "Stored 'std_div_mean_df' (DataFrame)\n"
     ]
    }
   ],
   "source": [
    "\n",
    "%store std_div_mean_df "
   ]
  },
  {
   "cell_type": "code",
   "execution_count": 153,
   "metadata": {},
   "outputs": [
    {
     "name": "stdout",
     "output_type": "stream",
     "text": [
      "Price difference percentage between differnt house type in regions \n",
      "             1bed      2bed      3bed      4bed\n",
      "BL.json  0.226838  0.152367  0.132093  0.213289\n",
      "TN.json  0.078599  0.128075  0.109213  0.183944\n",
      "S.json   0.099408  0.157912  0.148098  0.192896\n",
      "CM.json  0.029422  0.042056  0.073934  0.118654\n",
      "KT.json  0.039579  0.031219  0.075489  0.124474\n",
      "PE.json  0.063934  0.029920  0.096951  0.169091\n",
      "TF.json  0.074147  0.092547  0.229231  0.288220\n",
      "DY.json  0.338089  0.020145  0.153392  0.100237\n",
      "OL.json  0.624367  0.204538  0.152903  0.115180\n",
      "MK.json  0.174605  0.023459  0.083857  0.131891\n",
      "DN.json  0.121218  0.102323  0.132869  0.207400\n",
      "HR.json  0.113029  0.070108  0.109208  0.194066\n",
      "OX.json  0.117007  0.081197  0.159297  0.118319\n",
      "NW.json  0.373092  0.148101  0.277407  0.294518\n",
      "SG.json  0.065061  0.090282  0.039499  0.240446\n",
      "LD.json       NaN  0.116448  0.140839  0.310437\n",
      "FK.json       NaN  0.524725  0.075938  0.045398\n",
      "EX.json  0.167549  0.053516  0.070969  0.161232\n",
      "TQ.json  0.179687  0.058741  0.114943  0.104937\n",
      "TW.json  0.064222  0.067856  0.016801  0.134189\n",
      "WA.json  0.123699  0.139078  0.191744  0.491801\n"
     ]
    },
    {
     "data": {
      "text/plain": [
       "<matplotlib.axes._subplots.AxesSubplot at 0x7f05ec81c780>"
      ]
     },
     "execution_count": 153,
     "metadata": {},
     "output_type": "execute_result"
    },
    {
     "data": {
      "image/png": "[encoded data removed]",
      "text/plain": [
       "<matplotlib.figure.Figure at 0x7f05eb21f128>"
      ]
     },
     "metadata": {},
     "output_type": "display_data"
    }
   ],
   "source": [
    "print(\"Price difference percentage between differnt house type in regions \")\n",
    "std_div_mean_df.columns = [\"1bed\",\"2bed\",\"3bed\",\"4bed\"]\n",
    "print(std_div_mean_df )\n",
    "plt.rcParams[\"figure.figsize\"] = [8,6]\n",
    "std_div_mean_df.median(axis = 1).plot.bar()\n",
    "                               \n",
    "#plt.figure()\n",
    "#plt.bar(range(len()),std_list)\n",
    "#plt.show()"
   ]
  },
  {
   "cell_type": "code",
   "execution_count": null,
   "metadata": {
    "collapsed": true
   },
   "outputs": [],
   "source": []
  }
 ],
 "metadata": {
  "kernelspec": {
   "display_name": "Python 3",
   "language": "python",
   "name": "python3"
  },
  "language_info": {
   "codemirror_mode": {
    "name": "ipython",
    "version": 3
   },
   "file_extension": ".py",
   "mimetype": "text/x-python",
   "name": "python",
   "nbconvert_exporter": "python",
   "pygments_lexer": "ipython3",
   "version": "3.6.1"
  }
 },
 "nbformat": 4,
 "nbformat_minor": 2
}
